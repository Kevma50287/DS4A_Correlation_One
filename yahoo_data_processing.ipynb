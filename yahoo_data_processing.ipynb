{
 "cells": [
  {
   "cell_type": "code",
   "execution_count": null,
   "metadata": {},
   "outputs": [],
   "source": [
    "import pandas as pd\n",
    "import numpy as np\n",
    "\n",
    "import yfinance as yf\n",
    "import yahoo_fin.stock_info as si\n",
    "\n",
    "from yahoo_fin.stock_info import get_data\n",
    "\n"
   ]
  },
  {
   "cell_type": "code",
   "execution_count": null,
   "metadata": {},
   "outputs": [],
   "source": [
    "sivbq = yf.Ticker(\"SIVBQ\")\n",
    "\n",
    "hist = sivbq.history(period=\"1mo\")\n",
    "shares = sivbq.get_shares_full(start=\"2017-01-01\", end=None)\n",
    "type(shares)\n",
    "\n",
    "# Quarterly highs and lows for historical data between Jan 1 2017 - March 1 2022\n",
    "stock_df_svb = sivbq.history(period =\"max\", interval=\"3mo\", start=\"2017-01-01\", end=\"2022-04-01\")\n",
    "stock_df_svb\n",
    "\n"
   ]
  },
  {
   "cell_type": "code",
   "execution_count": 36,
   "metadata": {},
   "outputs": [
    {
     "data": {
      "text/html": [
       "<div>\n",
       "<style scoped>\n",
       "    .dataframe tbody tr th:only-of-type {\n",
       "        vertical-align: middle;\n",
       "    }\n",
       "\n",
       "    .dataframe tbody tr th {\n",
       "        vertical-align: top;\n",
       "    }\n",
       "\n",
       "    .dataframe thead th {\n",
       "        text-align: right;\n",
       "    }\n",
       "</style>\n",
       "<table border=\"1\" class=\"dataframe\">\n",
       "  <thead>\n",
       "    <tr style=\"text-align: right;\">\n",
       "      <th></th>\n",
       "    </tr>\n",
       "  </thead>\n",
       "  <tbody>\n",
       "  </tbody>\n",
       "</table>\n",
       "</div>"
      ],
      "text/plain": [
       "Empty DataFrame\n",
       "Columns: []\n",
       "Index: []"
      ]
     },
     "execution_count": 36,
     "metadata": {},
     "output_type": "execute_result"
    }
   ],
   "source": [
    "# Financials\n",
    "svb_stock_data = get_data('sivbq', start_date=\"01/01/2017\", end_date=\"04/01/2022\", index_as_date = True, interval = \"1mo\")\n",
    "\n",
    "#For some reason the .get_income_statement does not work. Error with input being string/'str'\n",
    "#income_statement = si.get_income_statement(\"aapl\")\n",
    "# looks like aapl was never declared in order to be used in the function", 
    "# do we need to pull from both sivbq and aapl? if so we would need to declare a separate function for it", 
    "income_statement = si.get_income_statement(\"sivbq\")\n", 
    "income_statement\n",
    "\n",
    "#Also .get_balance_sheet does not work \n",
    "#balance_sheet = si.get_balance_sheet(\"aapl\")\n",
    "balance_sheet = si.get_balance_sheet(\"sivbq\")\n", 
    "balance_sheet"
   ]
  }
 ],
 "metadata": {
  "kernelspec": {
   "display_name": "Python 3",
   "language": "python",
   "name": "python3"
  },
  "language_info": {
   "codemirror_mode": {
    "name": "ipython",
    "version": 3
   },
   "file_extension": ".py",
   "mimetype": "text/x-python",
   "name": "python",
   "nbconvert_exporter": "python",
   "pygments_lexer": "ipython3",
   "version": "3.11.3"
  },
  "orig_nbformat": 4
 },
 "nbformat": 4,
 "nbformat_minor": 2
}
