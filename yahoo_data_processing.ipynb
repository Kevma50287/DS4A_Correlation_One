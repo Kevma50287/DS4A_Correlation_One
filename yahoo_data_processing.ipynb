{
 "cells": [
  {
   "cell_type": "code",
   "execution_count": 40,
   "metadata": {},
   "outputs": [],
   "source": [
    "import pandas as pd\n",
    "import numpy as np\n",
    "from datetime import datetime, timedelta\n",
    "import os"
   ]
  },
  {
   "attachments": {},
   "cell_type": "markdown",
   "metadata": {},
   "source": [
    "### Compilation of all appropriate CSV files\n",
    "\n",
    "**More info to be added soon"
   ]
  },
  {
   "cell_type": "code",
   "execution_count": 41,
   "metadata": {},
   "outputs": [],
   "source": [
    "#compilation of all appropriate csv files\n",
    "main_path = os.getcwd() + \"/CSV\"\n",
    "\n",
    "# Initializing dicts\n",
    "balance_sheet_df_collection = {}\n",
    "cashflow_statement_df_collection = {}\n",
    "income_statement_df_collection = {}\n",
    "market_stats_df_collection = {}\n",
    "\n",
    "collections = {\n",
    "    \"balance_sheet_quarterly.csv\": balance_sheet_df_collection,\n",
    "    \"cashflow_statement_quarterly.csv\": cashflow_statement_df_collection,\n",
    "    \"income_statement_quarterly.csv\": income_statement_df_collection,\n",
    "    \"market_stats.csv\": market_stats_df_collection\n",
    "}\n",
    "\n",
    "def process_csv_file(current_path, folder):\n",
    "    copy_df = pd.read_csv(current_path)\n",
    "    copy_df[\"Unnamed: 0\"] = (copy_df[\"Unnamed: 0\"] >= 0).astype(int).replace(1, folder)\n",
    "    column_names = copy_df.columns\n",
    "    return pd.DataFrame(copy_df, columns=column_names)\n",
    "\n",
    "for folder in os.listdir(main_path):\n",
    "    for csv_file in os.listdir(os.path.join(main_path, folder)):\n",
    "        current_path = os.path.join(main_path, folder, csv_file)\n",
    "        \n",
    "        if csv_file in collections:\n",
    "            collections[csv_file][folder] = process_csv_file(current_path, folder)\n",
    "\n",
    "\n",
    "balance_sheet_df = pd.concat(balance_sheet_df_collection)\n",
    "cashflow_statement_df = pd.concat(cashflow_statement_df_collection)\n",
    "income_statement_df = pd.concat(income_statement_df_collection)\n",
    "market_stats_df = pd.concat(market_stats_df_collection)"
   ]
  },
  {
   "attachments": {},
   "cell_type": "markdown",
   "metadata": {},
   "source": [
    "### Clean up of compiled dataframes\n",
    "\n",
    " - balance_sheet_df\n",
    " - cashflow_statement_df\n",
    " - income_statement_df\n",
    " - market_stats_df"
   ]
  },
  {
   "attachments": {},
   "cell_type": "markdown",
   "metadata": {},
   "source": [
    "### Balance Sheet Data Cleanup"
   ]
  },
  {
   "cell_type": "code",
   "execution_count": 42,
   "metadata": {},
   "outputs": [],
   "source": [
    "\n",
    "balance_sheet_df.rename(columns = {\"Unnamed: 0\":\"Ticker\", \"Breakdown\":\"Date\"}, inplace = True)\n",
    "balance_sheet_df[\"Date\"] = pd.to_datetime(balance_sheet_df[\"Date\"])\n",
    "balance_sheet_df.index.set_names(['Ticker Symbol', 'Index'], inplace = True) # Set index names \n",
    "\n",
    "# Clean column types\n",
    "cols=[i for i in balance_sheet_df.columns if i not in [\"Ticker\",\"Date\"]]\n",
    "for col in cols:\n",
    "    balance_sheet_df[col] = balance_sheet_df[col].astype(str).str.replace(',','')\n",
    "    balance_sheet_df[col].replace('-', np.nan, inplace = True) #double check no negative values, find way to replace \"-\" for null values NaN without replacing negative values\n",
    "    balance_sheet_df[col]= balance_sheet_df[col].astype(float)"
   ]
  },
  {
   "attachments": {},
   "cell_type": "markdown",
   "metadata": {},
   "source": [
    "### Cashflow Statement Data Cleanup"
   ]
  },
  {
   "cell_type": "code",
   "execution_count": 43,
   "metadata": {},
   "outputs": [],
   "source": [
    "cashflow_statement_df.rename(columns = {\"Unnamed: 0\":\"Ticker\", \"Breakdown\":\"Date\"}, inplace = True)\n",
    "cashflow_statement_df.index.set_names(['Ticker Symbol', 'Index'], inplace = True) # Set index names \n",
    "cashflow_statement_df.drop(0, level=1, axis=0, inplace=True) # Erase all ttm values as not necessary (trailing twelve months data not necessary)\n",
    "cashflow_statement_df[\"Date\"] = pd.to_datetime(cashflow_statement_df[\"Date\"]) # Updating column type to datetime\n",
    "\n",
    "# Clean column types\n",
    "cols=[i for i in cashflow_statement_df.columns if i not in [\"Ticker\",\"Date\"]]\n",
    "for col in cols:\n",
    "    cashflow_statement_df[col] = cashflow_statement_df[col].astype(str).str.replace(',','')\n",
    "    cashflow_statement_df[col].replace('-', np.nan, inplace = True) #double check no negative values, find way to replace \"-\" for null values NaN without replacing negative values but it works?\n",
    "    cashflow_statement_df[col]= cashflow_statement_df[col].astype(float)"
   ]
  },
  {
   "attachments": {},
   "cell_type": "markdown",
   "metadata": {},
   "source": [
    "### Income Statement Data Cleanup"
   ]
  },
  {
   "cell_type": "code",
   "execution_count": 44,
   "metadata": {},
   "outputs": [],
   "source": [
    "income_statement_df.rename(columns = {\"Unnamed: 0\":\"Ticker\", \"Breakdown\":\"Date\"}, inplace = True)\n",
    "income_statement_df.index.set_names(['Ticker Symbol', 'Index'], inplace = True) # Set index names \n",
    "income_statement_df.drop(0, level=1, axis=0, inplace=True) # Erase all ttm values as not necessary (trailing twelve months data not necessary)\n",
    "income_statement_df[\"Date\"] = pd.to_datetime(income_statement_df[\"Date\"]) # Updating column type to datetime\n",
    "\n",
    "# Clean column types\n",
    "cols=[i for i in income_statement_df.columns if i not in [\"Ticker\",\"Date\"]]\n",
    "for col in cols:\n",
    "    income_statement_df[col] = income_statement_df[col].astype(str).str.replace(',','')\n",
    "    income_statement_df[col].replace('-', np.nan, inplace = True) #double check no negative values, find way to replace \"-\" for null values NaN without replacing negative values but it works?\n",
    "    income_statement_df[col]= income_statement_df[col].astype(float)"
   ]
  },
  {
   "attachments": {},
   "cell_type": "markdown",
   "metadata": {},
   "source": [
    "### Market Stats Data Cleanup"
   ]
  },
  {
   "cell_type": "code",
   "execution_count": 45,
   "metadata": {},
   "outputs": [],
   "source": [
    "market_stats_df.rename(columns = {\"Unnamed: 0\":\"Ticker\", \"Breakdown\":\"Date\"}, inplace = True)\n",
    "market_stats_df.index.set_names(['Ticker Symbol', 'Index'], inplace = True) # Set index names \n",
    "market_stats_df.drop(0, level=1, axis=0, inplace=True) # Erase all \"as of date\" rows (1st row for every ticker - unnecessary data)\n",
    "market_stats_df[\"Date\"] = pd.to_datetime(market_stats_df[\"Date\"]) # Updating column type to datetime\n",
    "\n",
    "# Clean column types (all numerical columns except market cap are floats)\n",
    "cols=[i for i in market_stats_df.columns if i not in [\"Ticker\",\"Date\"]]\n",
    "for col in cols:\n",
    "    market_stats_df[col].replace('-', np.nan, inplace = True) #double check no negative values, find way to replace \"-\" for null values NaN without replacing negative values but it works?\n",
    "\n",
    "# replace \".\" with \"\" in only market cap and replace M with 4 zeros, replace B with 7 zeros\n",
    "market_stats_df[\"Market Cap (intraday)\"] = market_stats_df[\"Market Cap (intraday)\"].astype(str).str.replace(\"B\", \"0000000\")\n",
    "market_stats_df[\"Market Cap (intraday)\"] = market_stats_df[\"Market Cap (intraday)\"].astype(str).str.replace(\"M\", \"0000\")\n",
    "market_stats_df[\"Market Cap (intraday)\"] = market_stats_df[\"Market Cap (intraday)\"].astype(str).str.replace(\".\", \"\")\n",
    "market_stats_df[\"Market Cap (intraday)\"] = market_stats_df[\"Market Cap (intraday)\"].astype(str).astype(int)"
   ]
  },
  {
   "attachments": {},
   "cell_type": "markdown",
   "metadata": {},
   "source": [
    "### df to CSV"
   ]
  },
  {
   "cell_type": "code",
   "execution_count": 46,
   "metadata": {},
   "outputs": [],
   "source": [
    "# Saves compiled dataframes as csv files under compiled_CSV\n",
    "os.makedirs('compiled_CSV', exist_ok=True)  \n",
    "balance_sheet_df.to_csv('compiled_CSV/balance_sheet.csv') \n",
    "cashflow_statement_df.to_csv('compiled_CSV/cashflow_statement.csv') \n",
    "income_statement_df.to_csv('compiled_CSV/income_statement.csv') \n",
    "market_stats_df.to_csv('compiled_CSV/market_stats.csv') "
   ]
  },
  {
   "attachments": {},
   "cell_type": "markdown",
   "metadata": {},
   "source": [
    "### Loading objects/csv files to AWS S3"
   ]
  },
  {
   "cell_type": "code",
   "execution_count": 47,
   "metadata": {},
   "outputs": [
    {
     "name": "stdout",
     "output_type": "stream",
     "text": [
      "Uploaded balance_sheet.csv to ds4a-c1-team21\n",
      "Uploaded market_stats.csv to ds4a-c1-team21\n",
      "Uploaded income_statement.csv to ds4a-c1-team21\n",
      "Uploaded cashflow_statement.csv to ds4a-c1-team21\n"
     ]
    }
   ],
   "source": [
    "import boto3\n",
    "\n",
    "access_key = os.environ.get('AWS_ACCESS_KEY_ID')\n",
    "secret_key = os.environ.get('AWS_SECRET_ACCESS_KEY')\n",
    "\n",
    "def get_file_paths(folder_path):\n",
    "    file_paths = []\n",
    "    for root, dirs, files in os.walk(folder_path):\n",
    "        for file in files:\n",
    "            if file.endswith('.csv'):  # Filter CSV files\n",
    "                file_path = os.path.join(root, file)\n",
    "                file_paths.append(file_path)\n",
    "    return file_paths\n",
    "\n",
    "def upload_files_to_s3(file_paths, bucket_name):\n",
    "    s3 = boto3.client('s3', aws_access_key_id=access_key, aws_secret_access_key=secret_key)\n",
    "    for file_path in file_paths:\n",
    "        file_name = file_path.split('/')[-1]  # Extract the file name from the path\n",
    "        s3.upload_file(file_path, bucket_name, file_name)\n",
    "        print(f\"Uploaded {file_name} to {bucket_name}\")\n",
    "\n",
    "# Folder path containing the CSV files\n",
    "folder_path = os.getcwd() + \"/compiled_CSV\"\n",
    "\n",
    "# Call the function to get file paths\n",
    "file_paths = get_file_paths(folder_path)\n",
    "\n",
    "# Name of the S3 bucket\n",
    "bucket_name = 'ds4a-c1-team21'\n",
    "\n",
    "# Call the function to upload files\n",
    "upload_files_to_s3(file_paths, bucket_name)"
   ]
  }
 ],
 "metadata": {
  "kernelspec": {
   "display_name": "Python 3",
   "language": "python",
   "name": "python3"
  },
  "language_info": {
   "codemirror_mode": {
    "name": "ipython",
    "version": 3
   },
   "file_extension": ".py",
   "mimetype": "text/x-python",
   "name": "python",
   "nbconvert_exporter": "python",
   "pygments_lexer": "ipython3",
   "version": "3.11.3"
  },
  "orig_nbformat": 4
 },
 "nbformat": 4,
 "nbformat_minor": 2
}
