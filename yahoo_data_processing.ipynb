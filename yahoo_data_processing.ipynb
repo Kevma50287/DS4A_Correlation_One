{
 "cells": [
  {
   "cell_type": "code",
   "execution_count": null,
   "metadata": {},
   "outputs": [],
   "source": [
    "import pandas as pd\n",
    "import numpy as np\n",
    "import yfinance as yf\n",
    "import yahoo_fin.stock_info as si\n",
    "from yahoo_fin.stock_info import get_data\n",
    "from yahooquery import Ticker"
   ]
  },
  {
   "cell_type": "code",
   "execution_count": null,
   "metadata": {},
   "outputs": [],
   "source": [
    "#sivbq = Ticker(\"SIVBQ\")\n",
    "stock_tickers = Ticker([\"SIVBQ\",\"JPM\",\"FRCB\",\n",
    "                        \"WFC\",\"BAC\",\"DFS\",\n",
    "                        \"MS\",\"PNC\",\"CS\",\n",
    "                        \"DB\",\"COF\",\"C\",\n",
    "                        \"KEY\",\"BNY\",\"GS\",\n",
    "                        \"HSBC\",\"MTB\",\"TD\",\n",
    "                        \"FHN\",\"OVLY\",\"PACW\",\n",
    "                        \"WAL\",\"SBNY\",\"ZION\",\n",
    "                        \"CMA\",\"FCNCA\",\"EWBC\",\n",
    "                        \"CFG\",\"MCBC\",\"NYCB\"])\n",
    "\n",
    "#for ticker in stock_tickers:\n",
    " #   stock = yf.Ticker(ticker)\n",
    "\n",
    "#stock_tickers.key_stats\n",
    "history_df = stock_tickers.history()\n",
    "history_df[\"market_cap\"] = history_df[\"volume\"]*history_df[\"adjclose\"]\n",
    "\n",
    "\n",
    "#hist = sivbq.history(period=\"1mo\")\n",
    "#shares = sivbq.get_shares_full(start=\"2017-01-01\", end=None)\n",
    "#type(shares)\n",
    "\n",
    "# Quarterly highs and lows for historical data between Jan 1 2017 - March 1 2022\n",
    "#stock_df_svb = sivbq.history(period =\"max\", interval=\"3mo\", start=\"2017-01-01\", end=\"2022-04-01\")\n",
    "#stock_df_svb\n",
    "\n"
   ]
  },
  {
   "cell_type": "code",
   "execution_count": 36,
   "metadata": {},
   "outputs": [
    {
     "data": {
      "text/html": [
       "<div>\n",
       "<style scoped>\n",
       "    .dataframe tbody tr th:only-of-type {\n",
       "        vertical-align: middle;\n",
       "    }\n",
       "\n",
       "    .dataframe tbody tr th {\n",
       "        vertical-align: top;\n",
       "    }\n",
       "\n",
       "    .dataframe thead th {\n",
       "        text-align: right;\n",
       "    }\n",
       "</style>\n",
       "<table border=\"1\" class=\"dataframe\">\n",
       "  <thead>\n",
       "    <tr style=\"text-align: right;\">\n",
       "      <th></th>\n",
       "    </tr>\n",
       "  </thead>\n",
       "  <tbody>\n",
       "  </tbody>\n",
       "</table>\n",
       "</div>"
      ],
      "text/plain": [
       "Empty DataFrame\n",
       "Columns: []\n",
       "Index: []"
      ]
     },
     "execution_count": 36,
     "metadata": {},
     "output_type": "execute_result"
    }
   ],
   "source": [
    "#cleanup\n",
    "import os\n",
    "import pandas as pd\n",
    "path_to_parent = \"/CSV\"\n",
    "current_path = os.getcwd()\n",
    "\n",
    "\n",
    "balance_sheet_df = pd.DataFrame()\n",
    "cashflow_statement_df = pd.DataFrame()\n",
    "income_statement_df = pd.DataFrame()\n",
    "\n",
    "copy_df = pd.DataFrame()\n",
    "\n",
    "for folder in os.listdir(current_path+path_to_parent):\n",
    "  \n",
    "    for csv_file in os.listdir(os.path.join(current_path+path_to_parent, folder)):\n",
    "        print(os.getcwd())\n",
    "        if csv_file == \"balance_sheet_quarterly.csv\":\n",
    "            copy_df = pd.read_csv(current_path+path_to_parent+'/'+folder+'/'+csv_file)\n",
    "\n",
    "        \n",
    "\n",
    "        \n",
    "# iterate through all *.csv files per folder in CSV folder (quarterly info only)\n",
    "\n"
   ]
  }
 ],
 "metadata": {
  "kernelspec": {
   "display_name": "Python 3",
   "language": "python",
   "name": "python3"
  },
  "language_info": {
   "codemirror_mode": {
    "name": "ipython",
    "version": 3
   },
   "file_extension": ".py",
   "mimetype": "text/x-python",
   "name": "python",
   "nbconvert_exporter": "python",
   "pygments_lexer": "ipython3",
   "version": "3.11.3"
  },
  "orig_nbformat": 4
 },
 "nbformat": 4,
 "nbformat_minor": 2
}
