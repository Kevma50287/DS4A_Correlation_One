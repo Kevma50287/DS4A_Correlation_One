{
 "cells": [
  {
   "cell_type": "code",
   "execution_count": 11,
   "id": "754e23e1",
   "metadata": {},
   "outputs": [
    {
     "data": {
      "text/plain": [
       "\"Fatal failure while accessing filings: Unable to get data for URL 'https://www.sec.gov/cgi-bin/browse-edgar?action=getcompany&CIK=msft&type=10-k&owner=include&count=40'. Surpassed maximum try count of 10\""
      ]
     },
     "execution_count": 11,
     "metadata": {},
     "output_type": "execute_result"
    }
   ],
   "source": [
    "import pandas\n"
   ]
  },
  {
   "cell_type": "code",
   "execution_count": null,
   "id": "8e0047c3",
   "metadata": {},
   "outputs": [],
   "source": []
  }
 ],
 "metadata": {
  "kernelspec": {
   "display_name": "Python 3 (ipykernel)",
   "language": "python",
   "name": "python3"
  },
  "language_info": {
   "codemirror_mode": {
    "name": "ipython",
    "version": 3
   },
   "file_extension": ".py",
   "mimetype": "text/x-python",
   "name": "python",
   "nbconvert_exporter": "python",
   "pygments_lexer": "ipython3",
   "version": "3.11.2"
  }
 },
 "nbformat": 4,
 "nbformat_minor": 5
}
